{
 "cells": [
  {
   "cell_type": "code",
   "execution_count": 4,
   "id": "ee386a40",
   "metadata": {},
   "outputs": [],
   "source": [
    "from langgraph.graph import StateGraph, START, END\n",
    "from typing import Literal, TypedDict\n",
    "from langchain_openai import ChatOpenAI\n",
    "from langchain.prompts import ChatPromptTemplate, SystemMessagePromptTemplate, HumanMessagePromptTemplate\n",
    "from dotenv import load_dotenv\n",
    "from pydantic import BaseModel, Field\n",
    "import os\n",
    "load_dotenv()\n",
    "from typing import Optional"
   ]
  },
  {
   "cell_type": "code",
   "execution_count": 5,
   "id": "c86027cb",
   "metadata": {},
   "outputs": [],
   "source": [
    "OPENAI_API_KEY = os.getenv(\"OPENAI_API_KEY\")\n",
    "model = ChatOpenAI(\n",
    "    model=\"gpt-4o-mini\",\n",
    "    temperature=0.2,\n",
    "    top_p=0.1,\n",
    "    max_tokens=1200,\n",
    "    api_key=OPENAI_API_KEY\n",
    ")"
   ]
  },
  {
   "cell_type": "code",
   "execution_count": 18,
   "id": "efad82a0",
   "metadata": {},
   "outputs": [],
   "source": [
    "from typing import Optional\n",
    "\n",
    "\n",
    "class IntentAgent(BaseModel):\n",
    "\n",
    "    passage: str = Field(..., description=\"The passage to classify the intent for.\", min_length=3)\n",
    "    user_query: str = Field(..., description=\"The user query to classify the intent for.\", min_length=3)\n",
    "    output: Optional[str] = Field(None, description=\"The output of the intent classification.\", min_length=3)\n",
    "\n",
    "\n",
    "class IntentAgentResponse(BaseModel):\n",
    "    intent: Literal[\"reading_comprehension\", \"verbal_ability\", \"critical_reasoning\", \"exam_mind_simulator\", \"option_elimination\", \"preparation_strategy\", \"general_help\", \"mock_test\"]\n",
    "    difficulty_level: Literal[\"easy\", \"medium\", \"hard\"]"
   ]
  },
  {
   "cell_type": "code",
   "execution_count": null,
   "id": "3af92442",
   "metadata": {},
   "outputs": [],
   "source": []
  },
  {
   "cell_type": "code",
   "execution_count": 19,
   "id": "125f6d70",
   "metadata": {},
   "outputs": [],
   "source": [
    "def classify_intent_node(state: IntentAgent):\n",
    "    # prompts \n",
    "    intent_classifier_prompt = ChatPromptTemplate.from_messages(\n",
    "    [\n",
    "        (\"system\", \"\"\"You are an expert CAT VARC intent classifier. \n",
    "            Analyze the student's query and classify it into one of these categories:\n",
    "            - reading_comprehension: Questions about RC passages, strategies, comprehension\n",
    "            - verbal_ability: Grammar, vocabulary, sentence correction, para jumbles\n",
    "            - critical_reasoning: Logical reasoning, assumptions, conclusions, arguments\n",
    "            - exam_mind_simulator: Simulating examiner's mind, question design, psychological traps\n",
    "            - option_elimination: Strategies for eliminating options, decision-making, confusing options\n",
    "            - preparation_strategy: Study plans, time management, resources\n",
    "            - general_help: Study plans, motivation, general CAT advice\n",
    "            - mock_test: Practice tests, mock exams, timed practice\n",
    "            from the {passage} provided, extract the intent category.\n",
    "            Also extract:\n",
    "            - current_topic: Specific topic within the category\n",
    "            - difficulty_level: 1 (beginner) to 5 (expert)\n",
    "            \"\"\"),\n",
    "        (\"human\", \"{user_query}\"),\n",
    "    ]\n",
    ")\n",
    "    messages = intent_classifier_prompt.format_messages(\n",
    "        passage = state.passage,\n",
    "        user_query = state.user_query\n",
    "    )\n",
    "    structured_model = model.with_structured_output(IntentAgentResponse)\n",
    "    response = structured_model.invoke(messages)\n",
    "    state.output = response\n",
    "    # return {\"response\":state['output']}\n",
    "    return state"
   ]
  },
  {
   "cell_type": "code",
   "execution_count": 20,
   "id": "4f334d18",
   "metadata": {},
   "outputs": [],
   "source": [
    "graph = StateGraph(IntentAgent)\n",
    "\n",
    "# nodes\n",
    "graph.add_node('classify_intent',classify_intent_node)\n",
    "\n",
    "# edges\n",
    "graph.add_edge(START, 'classify_intent')\n",
    "graph.add_edge('classify_intent', END)\n",
    "\n",
    "# compile\n",
    "workflow = graph.compile()\n"
   ]
  },
  {
   "cell_type": "code",
   "execution_count": 21,
   "id": "2c4b68cd",
   "metadata": {},
   "outputs": [
    {
     "data": {
      "image/png": "[encoded data removed]",
      "text/plain": [
       "<langgraph.graph.state.CompiledStateGraph object at 0x7fd44ed61d90>"
      ]
     },
     "execution_count": 21,
     "metadata": {},
     "output_type": "execute_result"
    }
   ],
   "source": [
    "workflow"
   ]
  },
  {
   "cell_type": "code",
   "execution_count": 22,
   "id": "426d75f9",
   "metadata": {},
   "outputs": [],
   "source": [
    "initial_state = {\n",
    "    \"passage\":\"\"\"[T]he idea of craftsmanship is not simply nostalgic. . . . Crafts require distinct skills, an all-round approach to work that involves the whole product, rather than individual parts, and an attitude that necessitates devotion to the job and a focus on the communal interest. The concept of craft emphasises the human touch and individual judgment.\n",
    "\n",
    "    Essentially, the crafts concept seems to run against the preponderant ethos of management studies which, as the academics note, have long prioritised efficiency and consistency. . . . Craft skills were portrayed as being primitive and traditionalist.\n",
    "\n",
    "    The contrast between artisanship and efficiency first came to the fore in the 19th century when British manufacturers suddenly faced competition from across the Atlantic as firms developed the \"American system\" using standardised parts. . . . the worldwide success of the Singer sewing machine showed the potential of a mass-produced device. This process created its own reaction, first in the form of the Arts and Crafts movement of the late 19th century, and then again in the \"small is beautiful\" movement of the 1970s. A third crafts movement is emerging as people become aware of the environmental impact of conventional industry.\n",
    "\n",
    "    There are two potential markets for those who practise crafts. The first stems from the existence of consumers who are willing to pay a premium price for goods that are deemed to be of extra quality. . . . The second market lies in those consumers who wish to use their purchases to support local workers, or to reduce their environmental impact by taking goods to craftspeople to be mended, or recycled.\n",
    "\n",
    "    For workers, the appeal of craftsmanship is that it allows them the autonomy to make creative choices, and thus makes a job far more satisfying. In that sense, it could offer hope for the overall labour market. Let the machines automate dull and repetitive tasks and let workers focus purely on their skills, judgment and imagination. As a current example, the academics cite the \"agile\" manifesto in the software sector, an industry at the heart of technological change. The pioneers behind the original agile manifesto promised to prioritise \"individuals and interactions over processes and tools\". By bringing together experts from different teams, agile working is designed to improve creativity.\n",
    "\n",
    "    But the broader question is whether crafts can create a lot more jobs than they do today. Demand for crafted products may rise but will it be easy to retrain workers in sectors that might get automated (such as truck drivers) to take advantage? In a world where products and services often have to pass through regulatory hoops, large companies will usually have the advantage.\n",
    "\n",
    "    History also suggests that the link between crafts and creativity is not automatic. Medieval craft guilds were monopolies which resisted new entrants. They were also highly hierarchical with young men required to spend long periods as apprentices and journeymen before they could set up on their own; by that time the innovative spirit may have been knocked out of them. Craft workers can thrive in the modern era, but only if they don't get too organised.\"\"\",\n",
    "\n",
    "    \"user_query\":\"\"\" We can infer from the passage that medieval crafts guilds resembled mass production in that both\n",
    "        options:\n",
    "        A) discouraged innovation by restricting entry through strict rules.\n",
    "        B) focused excessively on product quality.\n",
    "        C) did not necessarily promote creativity.\n",
    "        D) did not always employ egalitarian production processes.\n",
    "\n",
    "        how to solve this question based on the passage, give me step by step . Give me correct answer and explanation.\"\"\"\n",
    "}\n",
    "\n",
    "final_state = workflow.invoke(initial_state)"
   ]
  },
  {
   "cell_type": "code",
   "execution_count": 23,
   "id": "c1c24adc",
   "metadata": {},
   "outputs": [
    {
     "data": {
      "text/plain": [
       "{'passage': '[T]he idea of craftsmanship is not simply nostalgic. . . . Crafts require distinct skills, an all-round approach to work that involves the whole product, rather than individual parts, and an attitude that necessitates devotion to the job and a focus on the communal interest. The concept of craft emphasises the human touch and individual judgment.\\n\\n    Essentially, the crafts concept seems to run against the preponderant ethos of management studies which, as the academics note, have long prioritised efficiency and consistency. . . . Craft skills were portrayed as being primitive and traditionalist.\\n\\n    The contrast between artisanship and efficiency first came to the fore in the 19th century when British manufacturers suddenly faced competition from across the Atlantic as firms developed the \"American system\" using standardised parts. . . . the worldwide success of the Singer sewing machine showed the potential of a mass-produced device. This process created its own reaction, first in the form of the Arts and Crafts movement of the late 19th century, and then again in the \"small is beautiful\" movement of the 1970s. A third crafts movement is emerging as people become aware of the environmental impact of conventional industry.\\n\\n    There are two potential markets for those who practise crafts. The first stems from the existence of consumers who are willing to pay a premium price for goods that are deemed to be of extra quality. . . . The second market lies in those consumers who wish to use their purchases to support local workers, or to reduce their environmental impact by taking goods to craftspeople to be mended, or recycled.\\n\\n    For workers, the appeal of craftsmanship is that it allows them the autonomy to make creative choices, and thus makes a job far more satisfying. In that sense, it could offer hope for the overall labour market. Let the machines automate dull and repetitive tasks and let workers focus purely on their skills, judgment and imagination. As a current example, the academics cite the \"agile\" manifesto in the software sector, an industry at the heart of technological change. The pioneers behind the original agile manifesto promised to prioritise \"individuals and interactions over processes and tools\". By bringing together experts from different teams, agile working is designed to improve creativity.\\n\\n    But the broader question is whether crafts can create a lot more jobs than they do today. Demand for crafted products may rise but will it be easy to retrain workers in sectors that might get automated (such as truck drivers) to take advantage? In a world where products and services often have to pass through regulatory hoops, large companies will usually have the advantage.\\n\\n    History also suggests that the link between crafts and creativity is not automatic. Medieval craft guilds were monopolies which resisted new entrants. They were also highly hierarchical with young men required to spend long periods as apprentices and journeymen before they could set up on their own; by that time the innovative spirit may have been knocked out of them. Craft workers can thrive in the modern era, but only if they don\\'t get too organised.',\n",
       " 'user_query': ' We can infer from the passage that medieval crafts guilds resembled mass production in that both\\n        options:\\n        A) discouraged innovation by restricting entry through strict rules.\\n        B) focused excessively on product quality.\\n        C) did not necessarily promote creativity.\\n        D) did not always employ egalitarian production processes.\\n\\n        how to solve this question based on the passage, give me step by step . Give me correct answer and explanation.',\n",
       " 'output': IntentAgentResponse(intent='reading_comprehension', difficulty_level='medium')}"
      ]
     },
     "execution_count": 23,
     "metadata": {},
     "output_type": "execute_result"
    }
   ],
   "source": [
    "final_state"
   ]
  },
  {
   "cell_type": "code",
   "execution_count": 6,
   "id": "45860537",
   "metadata": {},
   "outputs": [],
   "source": [
    "class CriticalAgentResponse(BaseModel):\n",
    "    intent_critical: Literal[\n",
    "    \"Explain\",]\n",
    "    difficulty_level: Literal[\"easy\", \"medium\", \"hard\"]\n",
    "\n",
    "\n",
    "class CriticalAgentState(TypedDict, total = False):\n",
    "    passage: str\n",
    "    user_query: str\n",
    "    intent_metadata: CriticalAgentResponse\n",
    "\n",
    "    # conclusion_response: str\n",
    "    # implication_response: str\n",
    "    # infer_strongly_supported_response: str\n",
    "    # infer_dispute_response: str\n",
    "    # identify_technique_response: str\n",
    "    # role_response: str\n",
    "    # principle_response: str\n",
    "    # structure_response: str\n",
    "    # flaw_response: str\n",
    "    # match_flaws_response: str\n",
    "    # necessary_assumptions_response: str\n",
    "    # sufficient_assumptions_response: str\n",
    "    # strengthen_response: str\n",
    "    # weaken_response: str\n",
    "    # most_least_helpful_response: str\n",
    "    explain_response: str\n",
    "    # resolve_conflict_response: str"
   ]
  },
  {
   "cell_type": "code",
   "execution_count": 7,
   "id": "01316821",
   "metadata": {},
   "outputs": [],
   "source": [
    "def classify_critical_reasoning_intent_node(state: CriticalAgentState):\n",
    "    critical_reasoning_intent_prompt = ChatPromptTemplate.from_messages([\n",
    "       (\"system\", \"\"\"You are an expert CAT VARC critical reasoning intent classifier. \n",
    "            Analyze the student's query and classify it into one of these categories:\n",
    "            \n",
    "            Explain\n",
    "            {passage}\n",
    "            \"\"\"),\n",
    "        (\"human\", \"{user_query}\"),\n",
    "    ])\n",
    "    messages = critical_reasoning_intent_prompt.format_messages(\n",
    "        passage = state['passage'],\n",
    "        user_query = state['user_query']\n",
    "    )\n",
    "    structured_model = model.with_structured_output(CriticalAgentResponse)\n",
    "    response = structured_model.invoke(messages)\n",
    "    # Return dict with the key to update in state\n",
    "    print(f\"📋 Classified Intent: {response.intent_critical} (difficulty: {response.difficulty_level})\")\n",
    "    # return {\"intent_metadata\": response}\n",
    "    return {\"intent_metadata\": response}"
   ]
  },
  {
   "cell_type": "code",
   "execution_count": 8,
   "id": "9ba5cc97",
   "metadata": {},
   "outputs": [],
   "source": [
    "def explain_agent_node(state: CriticalAgentState):\n",
    "    intent_data = state['intent_metadata']\n",
    "    # prompts\n",
    "    explain_agent_prompt = ChatPromptTemplate.from_messages([\n",
    "    (\"system\", \"\"\"You are the world's leading expert in logical reasoning for CAT VARC Explain/Resolve questions \n",
    "    Examples:\n",
    "    Each of the following, if true, contributes to an explanation of the difference in caloric intake EXCEPT:\n",
    "    Which one of the following, if true, most helps to explain the apparently paradoxical result?\n",
    "    Which one of the following, if true, most helps to explain the failure of the strategy?\n",
    "    Which one of the following, if true, most helps to explain the preference described above?\n",
    "    \n",
    "    Explanation: Top tip Sometimes students see the words “helps to” in an explain question and they mistake it for a strengthen question. Notice, however, that in explain question types, you’re not helping an argument (which is what a strengthen question asks you to do), but that you’re helping to explain how a situation could have occurred.\n",
    "\n",
    "    Provide SYSTEMATIC EXPLANATION ANALYSIS:\n",
    "\n",
    "    1. **Identify the puzzling situation:**\n",
    "    - Restate the surprising or contradictory facts in your own words\n",
    "    - Pinpoint why it is unexpected or paradoxical\n",
    "    - Detect any contrast keywords (however, yet, but, surprising, paradoxically)\n",
    "\n",
    "    2. **Formulate the central question:**\n",
    "    - Turn the paradox/surprise into a clear question\n",
    "    - Example: “Why did X happen even though Y should have prevented it?”\n",
    "\n",
    "    3. **Evaluate each option logically:**\n",
    "    - Add the option’s information to the situation\n",
    "    - Does it shed light on the paradox? (Yes = explains, No = irrelevant)\n",
    "    - Does it make the situation more puzzling? (If yes, eliminate immediately)\n",
    "    - Judge relevance, explanatory power, and fit with given facts\n",
    "\n",
    "    4. **Common wrong choice traps:**\n",
    "    - **Irrelevant detail:** Looks fact-like but doesn’t address the paradox\n",
    "    - **Opposite effect:** Makes the paradox sharper or more confusing\n",
    "    - **Background filler:** True fact but neutral, does not explain anything\n",
    "    - **Too general/obvious:** States something already implied without resolving gap\n",
    "\n",
    "    5. **Final logical conclusion:**\n",
    "    - Which option BEST explains the puzzling situation\n",
    "    - Why other options fail (irrelevant, opposite, filler, general)\n",
    "    - Degree of logical certainty (1–10)\n",
    "\n",
    "    Provide EXAMPLES for clarity:\n",
    "\n",
    "    Example Stimulus:\n",
    "    Populations of a shrimp species at Indonesian coral reefs show substantial genetic differences, even though strong ocean currents should mix populations.\n",
    "\n",
    "    Question:\n",
    "    Which one of the following, if true, most helps to explain the substantial genetic differences?\n",
    "\n",
    "    Choose 1 answer:\n",
    "    (Choice A, Incorrect)   The genetic differences between the shrimp populations are much less significant than those between shrimp and any other marine species.\n",
    "    The genetic differences between the shrimp populations are much less significant than those between shrimp and any other marine species.\n",
    "    This comparison doesn’t help explain the situation about shrimp, because what’s true for other marine species isn’t necessarily true for shrimp.\n",
    "    (Choice B, Incorrect)   The individual shrimp within a given population at any given Indonesian coral reef differ from one another genetically, even though there is widespread interbreeding within any such population.\n",
    "    The individual shrimp within a given population at any given Indonesian coral reef differ from one another genetically, even though there is widespread interbreeding within any such population.\n",
    "    This isn’t helpful to us. Information that individual shrimp are genetically different from each other at any given reef doesn’t help us answer the question, “Why are the shrimp genetically different from reef to reef?”\n",
    "    (Choice C, Checked, Correct)   Before breeding, shrimp of the species examined migrate back to the coral reef at which they were hatched.\n",
    "    Before breeding, shrimp of the species examined migrate back to the coral reef at which they were hatched.\n",
    "    This information helps explain why the shrimp are genetically different. While the shrimp might be carried among the reefs by strong currents, as the passage indicates is possible, this choice indicates that the shrimp return to the reef where they were hatched before breeding. So, even though the conditions are such that the shrimp could interbreed, this choice explains why they don’t.\n",
    "    (Choice D, Incorrect)   Most shrimp hatched at a given Indonesian coral reef are no longer present at that coral reef upon becoming old enough to breed.\n",
    "    Most shrimp hatched at a given Indonesian coral reef are no longer present at that coral reef upon becoming old enough to breed.\n",
    "    This information could actually make the passage more surprising. This choice confirms that most shrimp hatched at a given reef leave that reef to breed, so we have even more reason to believe that interbreeding would happen. Yet the effect of interbreeding (genetic similarities) isn’t happening.\n",
    "    (Choice E, Incorrect)   Ocean currents probably carry many of the baby shrimp hatched at a given Indonesian coral reef out into the open ocean rather than to another coral reef.\n",
    "    Ocean currents probably carry many of the baby shrimp hatched at a given Indonesian coral reef out into the open ocean rather than to another coral reef.\n",
    "    This choice doesn’t help explain the situation. We aren’t trying to figure out why there’s a genetically diverse population of shrimp in the open ocean; we’re trying to figure out why the shrimp are genetically different from reef to reef.\n",
    "\n",
    "    Psychological Traps:\n",
    "    - Students often pick (A) because it “sounds scientific” but doesn’t address puzzle\n",
    "    - Many pick (B) because it feels relevant, but it’s only background filler\n",
    "\n",
    "    NEXT STEP RECOMMENDATION:\n",
    "    Always phrase the paradox as a “Why” question, then test each choice as a possible answer. Eliminate options that don’t reduce the puzzlement.\n",
    "    {passage}\"\"\"),\n",
    "    (\"human\", \"{query}\")\n",
    "])\n",
    "    messages = explain_agent_prompt.format_messages(\n",
    "\n",
    "    passage=state['passage'],\n",
    "    query=state['user_query'],\n",
    "    intent_critical=intent_data.intent_critical,\n",
    "    difficulty=intent_data.difficulty_level\n",
    "\n",
    "    )\n",
    "    response = model.invoke(messages).content\n",
    "    return {\"explain_response\": response}"
   ]
  },
  {
   "cell_type": "code",
   "execution_count": 16,
   "id": "7b970e61",
   "metadata": {},
   "outputs": [],
   "source": [
    "graph = StateGraph(CriticalAgentState)\n",
    "\n",
    "# nodes\n",
    "graph.add_node('classify_intent',classify_critical_reasoning_intent_node)\n",
    "graph.add_node('explain',explain_agent_node)\n",
    "\n",
    "# edges\n",
    "graph.add_edge(START, 'classify_intent')\n",
    "graph.add_edge('classify_intent', 'explain')\n",
    "graph.add_edge('explain', END)\n",
    "\n",
    "# compile\n",
    "workflow = graph.compile()\n"
   ]
  },
  {
   "cell_type": "code",
   "execution_count": 17,
   "id": "cddf2fed",
   "metadata": {},
   "outputs": [
    {
     "data": {
      "image/png": "[encoded data removed]",
      "text/plain": [
       "<langgraph.graph.state.CompiledStateGraph object at 0x7d6a40fe6600>"
      ]
     },
     "execution_count": 17,
     "metadata": {},
     "output_type": "execute_result"
    }
   ],
   "source": [
    "workflow"
   ]
  },
  {
   "cell_type": "code",
   "execution_count": 24,
   "id": "859f749e",
   "metadata": {},
   "outputs": [
    {
     "name": "stdout",
     "output_type": "stream",
     "text": [
      "📋 Classified Intent: Explain (difficulty: medium)\n",
      "dict_keys(['passage', 'user_query', 'intent_metadata', 'explain_response'])\n",
      "intent_critical='Explain' difficulty_level='medium'\n"
     ]
    }
   ],
   "source": [
    "initial_state = {\n",
    "        \"passage\": \"\"\"(. . .) There are three other common drivers for carnivore-human attacks, some of which are more preventable than others. Natural aggression-based conflicts – such as those involving females protecting their young or animals protecting a food source – can often be avoided as long as people stay away from those animals and their food.\n",
    "        Carnivores that recognise humans as a means to get food, are a different story. As they become more reliant on human food they might find at campsites or in rubbish bins, they become less avoidant of humans. Losing that instinctive fear response puts them into more situations where they could get into an altercation with a human, which often results in that bear being put down by humans. \"A fed bear is a dead bear,\" says Servheen, referring to a common saying among biologists and conservationists.\n",
    "        Predatory or predation-related attacks are quite rare, only accounting for 17% of attacks in North America since 1955. They occur when a carnivore views a human as prey and hunts it like it would any other animal it uses for food. (. . .)\n",
    "\n",
    "        Then there are animal attacks provoked by people taking pictures with them or feeding them in natural settings such as national parks which often end with animals being euthanised out of precaution. \"Eventually, that animal becomes habituated to people, and [then] bad things happen to the animal. And the folks who initially wanted to make that connection don't necessarily realise that,\" says Christine Wilkinson, a postdoctoral researcher at UC Berkeley, California, who's been studying coyote-human conflicts.\n",
    "\n",
    "        After conducting countless postmortems on all types of carnivore-human attacks spanning 75 years, Penteriani's team believes 50% could have been avoided if humans reacted differently. A 2017 study co-authored by Penteriani found that engaging in risky behaviour around large carnivores increases the likelihood of an attack.\n",
    "        Two of the most common risky behaviours are parents leaving their children to play outside unattended and walking an unleashed dog, according to the study. Wilkinson says 66% of coyote attacks involve a dog. \"[People] end up in a situation where their dog is being chased, or their dog chases a coyote, or maybe they're walking their dog near a den that's marked, and the coyote wants to escort them away,\" says Wilkinson.\n",
    "\n",
    "        Experts believe climate change also plays a part in the escalation of human-carnivore conflicts, but the correlation still needs to be ironed out. \"As finite resources become scarcer, carnivores and people are coming into more frequent contact, which means that more conflict could occur,\" says Jen Miller, international programme specialist for the US Fish & Wildlife Service. For example, she says, there was an uptick in lion attacks in western India during a drought when lions and people were relying on the same water sources.\n",
    "\n",
    "        (. . .) The likelihood of human-carnivore conflicts appears to be higher in areas of low-income countries dominated by vast rural landscapes and farmland, according to Penteriani's research. \"There are a lot of working landscapes in the Global South that are really heterogeneous, that are interspersed with carnivore habitats, forests and savannahs, which creates a lot more opportunity for these encounters, just statistically,\" says Wilkinson.\n",
    "\n",
    "        \"\"\",\n",
    "\n",
    "        \"user_query\":\"\"\"   \n",
    "        Which of the following statements, if false, would be inconsistent with the concerns raised in the passage regarding the drivers of carnivore-human conflicts?\n",
    "        options:\n",
    "        A) Climate change has had negligible effects on the frequency of carnivore-human interactions in affected regions.\n",
    "        B) Carnivores lose their instinctive fear of humans when consistently exposed to human food sources.\n",
    "        C) Predatory attacks by carnivores are a common occurrence and have steadily increased over the past few decades.\n",
    "        D) Human efforts to avoid risky behaviors around large carnivores have proven effective in reducing conflict incidents.\n",
    "\n",
    "\n",
    "                \"\"\"\n",
    "    }\n",
    "final_state = workflow.invoke(initial_state)\n",
    "print(final_state.keys())\n",
    "print(final_state['intent_metadata'])\n"
   ]
  },
  {
   "cell_type": "code",
   "execution_count": 25,
   "id": "4e96bc28",
   "metadata": {},
   "outputs": [
    {
     "name": "stdout",
     "output_type": "stream",
     "text": [
      "To tackle the question systematically, we will follow the outlined steps for analyzing the passage and the options provided.\n",
      "\n",
      "### 1. **Identify the puzzling situation:**\n",
      "- The passage discusses various drivers of carnivore-human conflicts, including climate change, human behaviors, and the habituation of carnivores to humans.\n",
      "- The concern is that certain factors contribute to an increase in these conflicts, and if any of the statements are false, they would contradict the concerns raised in the passage.\n",
      "\n",
      "### 2. **Formulate the central question:**\n",
      "- The central question can be framed as: “What statement, if false, would contradict the concerns about the factors leading to increased carnivore-human conflicts?”\n",
      "\n",
      "### 3. **Evaluate each option logically:**\n",
      "- **Option A:** \"Climate change has had negligible effects on the frequency of carnivore-human interactions in affected regions.\"\n",
      "  - If this statement is false, it implies that climate change does have significant effects, which aligns with the passage's mention of climate change as a factor in increasing conflicts. Thus, this option would be consistent with the concerns raised.\n",
      "\n",
      "- **Option B:** \"Carnivores lose their instinctive fear of humans when consistently exposed to human food sources.\"\n",
      "  - If this statement is false, it would mean that carnivores do not lose their fear, which contradicts the passage's assertion that reliance on human food leads to more encounters and conflicts. This option would be inconsistent with the concerns raised.\n",
      "\n",
      "- **Option C:** \"Predatory attacks by carnivores are a common occurrence and have steadily increased over the past few decades.\"\n",
      "  - If this statement is false, it suggests that predatory attacks are not common or have not increased, which contradicts the passage's mention of predatory attacks being rare and only accounting for a small percentage of conflicts. This option would be inconsistent with the concerns raised.\n",
      "\n",
      "- **Option D:** \"Human efforts to avoid risky behaviors around large carnivores have proven effective in reducing conflict incidents.\"\n",
      "  - If this statement is false, it implies that human efforts are ineffective, which would contradict the passage's assertion that 50% of attacks could have been avoided if humans reacted differently. This option would also be inconsistent with the concerns raised.\n",
      "\n",
      "### 4. **Common wrong choice traps:**\n",
      "- Each option has been evaluated for its relevance to the concerns raised in the passage. Options A, C, and D would contradict the passage if they were false, while option B directly supports the concerns.\n",
      "\n",
      "### 5. **Final logical conclusion:**\n",
      "- The question asks for the statement that, if false, would be inconsistent with the concerns raised. \n",
      "- **Correct Answer:** **C** - \"Predatory attacks by carnivores are a common occurrence and have steadily increased over the past few decades.\" If this statement is false, it contradicts the passage's context regarding the rarity of predatory attacks and their contribution to the overall conflict narrative.\n",
      "\n",
      "### Degree of logical certainty:\n",
      "- The logical certainty for option C being the correct answer is high (9/10) as it directly contradicts the passage's claims about the nature of predatory attacks. \n",
      "\n",
      "In summary, the answer is **C**, as it is the statement that, if false, would be inconsistent with the concerns raised in the passage regarding the drivers of carnivore-human conflicts.\n"
     ]
    }
   ],
   "source": [
    "print(final_state['explain_response'])"
   ]
  },
  {
   "cell_type": "code",
   "execution_count": null,
   "id": "aa6fa0e9",
   "metadata": {},
   "outputs": [],
   "source": []
  }
 ],
 "metadata": {
  "kernelspec": {
   "display_name": "chatbot",
   "language": "python",
   "name": "python3"
  },
  "language_info": {
   "codemirror_mode": {
    "name": "ipython",
    "version": 3
   },
   "file_extension": ".py",
   "mimetype": "text/x-python",
   "name": "python",
   "nbconvert_exporter": "python",
   "pygments_lexer": "ipython3",
   "version": "3.12.0"
  }
 },
 "nbformat": 4,
 "nbformat_minor": 5
}
